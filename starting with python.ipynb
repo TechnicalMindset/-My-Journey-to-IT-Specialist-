{
  "nbformat": 4,
  "nbformat_minor": 0,
  "metadata": {
    "colab": {
      "provenance": [],
      "authorship_tag": "ABX9TyPnGok6PEjmXKN7OuTIxnFS",
      "include_colab_link": true
    },
    "kernelspec": {
      "name": "python3",
      "display_name": "Python 3"
    },
    "language_info": {
      "name": "python"
    }
  },
  "cells": [
    {
      "cell_type": "markdown",
      "metadata": {
        "id": "view-in-github",
        "colab_type": "text"
      },
      "source": [
        "<a href=\"https://colab.research.google.com/github/TechnicalMindset/-My-Journey-to-IT-Specialist-/blob/main/starting%20with%20python.ipynb\" target=\"_parent\"><img src=\"https://colab.research.google.com/assets/colab-badge.svg\" alt=\"Open In Colab\"/></a>"
      ]
    },
    {
      "cell_type": "code",
      "execution_count": null,
      "metadata": {
        "id": "JOrtQrbktAof"
      },
      "outputs": [],
      "source": [
        "# prompt: a guide step to step to start with python\n",
        "\n",
        "print(\"Hello, World!\")\n"
      ]
    }
  ]
}